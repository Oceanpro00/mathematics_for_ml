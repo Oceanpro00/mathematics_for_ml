{
 "cells": [
  {
   "cell_type": "code",
   "execution_count": 1,
   "id": "f94b84e2",
   "metadata": {},
   "outputs": [],
   "source": [
    "# Import Dependencies\n",
    "import random"
   ]
  },
  {
   "cell_type": "markdown",
   "id": "339bb5b8",
   "metadata": {},
   "source": [
    "### Random Value Generator"
   ]
  },
  {
   "cell_type": "code",
   "execution_count": 2,
   "id": "8dc5ce1e",
   "metadata": {},
   "outputs": [],
   "source": [
    "# Random Value - flat single value vectors\n",
    "def generate_single_rand(n, low = -50, high = 50):\n",
    "    return [random.uniform(low,high) for i in range(n)]"
   ]
  },
  {
   "cell_type": "markdown",
   "id": "33373622",
   "metadata": {},
   "source": [
    "### Dot Product Calculator Function"
   ]
  },
  {
   "cell_type": "code",
   "execution_count": 3,
   "id": "d2ab2cae",
   "metadata": {},
   "outputs": [],
   "source": [
    "# Basic Dot Product Calculator Function - flat single value vector lists\n",
    "def calc_basic_dot_product(vector1, vector2):\n",
    "    return sum([a * b for a, b in zip(vector1, vector2)])"
   ]
  },
  {
   "cell_type": "markdown",
   "id": "5a6136c6",
   "metadata": {},
   "source": [
    "### Vector Magnitude Calculator"
   ]
  },
  {
   "cell_type": "code",
   "execution_count": 4,
   "id": "dc6803d4",
   "metadata": {},
   "outputs": [],
   "source": [
    "# Basic Vector Magnitude Calculator \n",
    "def calc_basic_magnitude(vector1):\n",
    "    return calc_basic_dot_product(vector1, vector1)"
   ]
  },
  {
   "cell_type": "markdown",
   "id": "b928c8fa",
   "metadata": {},
   "source": [
    "#### Trial"
   ]
  },
  {
   "cell_type": "code",
   "execution_count": 5,
   "id": "15272c7c",
   "metadata": {},
   "outputs": [],
   "source": [
    "# Define Vectors 1 and 2 with Random values\n",
    "vec_1 = generate_single_rand(5)\n",
    "vec_2 = generate_single_rand(5)\n",
    "\n",
    "# Set Own Vector Lists\n",
    "# vec_1 = []\n",
    "# vec_2 = []"
   ]
  },
  {
   "cell_type": "code",
   "execution_count": 6,
   "id": "aedc5e0b",
   "metadata": {},
   "outputs": [
    {
     "name": "stdout",
     "output_type": "stream",
     "text": [
      "Vector 1 looks like:\n",
      "[20.95158465015126, 1.7749367174281119, -23.693135228151107, 12.158321136445153, 21.958885313130295]\n",
      "has a magnitude of 1633.5013736949218\n",
      "\n",
      "Vector 2 looks like:\n",
      "[-11.603223638433732, 29.758925446898516, 20.066482112139, -25.280649437455427, -32.98560701010711]\n",
      "has a magnitude of 3150.053652719109\n",
      "\n",
      "The Dot product of vectors 1 and 2 is -1697.421, which means that the vectors point in opposite directions\n",
      "\n",
      "Comparing to the cosine formula:\n",
      "vector1 · vector2 = |v1| * |v2| * cos(θ)\n",
      "-1697.421 = 1633.5014 * 3150.0537 * -0.0003\n",
      "-1697.421 = -1697.421\n",
      "\n",
      "To put Simply, this tells us:\n",
      "• If θ = 0°, then cos(θ) = 1 → vectors point in the same direction.\n",
      "• If θ = 90°, then cos(θ) = 0 → vectors are perpendicular (dot product = 0).\n",
      "• If θ = 180°, then cos(θ) = -1 → vectors point in opposite directions.\n",
      "→ The dot product combines the size of both vectors and the cosine of the angle between them.\n"
     ]
    }
   ],
   "source": [
    "# Run Calc\n",
    "basic_dp = calc_basic_dot_product(vec_1, vec_2)\n",
    "\n",
    "# Statements\n",
    "mag1 = calc_basic_magnitude(vec_1)\n",
    "print(f\"Vector 1 looks like:\")\n",
    "print (vec_1)\n",
    "print(f\"has a magnitude of {mag1}\\n\")\n",
    "\n",
    "mag2 = calc_basic_magnitude(vec_2)\n",
    "print(f\"Vector 2 looks like:\")\n",
    "print (vec_2)\n",
    "print(f\"has a magnitude of {mag2}\\n\")\n",
    "\n",
    "if basic_dp > 0:\n",
    "    meaning = \"which means that the vectors point in a similar direction\"\n",
    "elif basic_dp < 0:\n",
    "    meaning = \"which means that the vectors point in opposite directions\"\n",
    "else:\n",
    "    meaning = \"which means that the vectors are orthogonal (perpendicular)\"\n",
    "\n",
    "print(f\"The Dot product of vectors 1 and 2 is {round(basic_dp, 4)}, {meaning}\")\n",
    "\n",
    "# Interestingly the Dot Product is the same as the Multiplying the sizes of the Vectors by Cos Theta\n",
    "cos_theta = basic_dp / (calc_basic_magnitude(vec_1) * calc_basic_magnitude(vec_2))\n",
    "\n",
    "print(f\"\\nComparing to the cosine formula:\")\n",
    "print(f\"vector1 · vector2 = |v1| * |v2| * cos(θ)\")\n",
    "print(f\"{round(basic_dp, 4)} = {round(mag1, 4)} * {round(mag2, 4)} * {round(cos_theta, 4)}\")\n",
    "print(f\"{round(basic_dp, 4)} = {round(mag1 * mag2 * cos_theta, 4)}\")\n",
    "\n",
    "print(\"\\nTo put Simply, this tells us:\")\n",
    "print(\"• If θ = 0°, then cos(θ) = 1 → vectors point in the same direction.\")\n",
    "print(\"• If θ = 90°, then cos(θ) = 0 → vectors are perpendicular (dot product = 0).\")\n",
    "print(\"• If θ = 180°, then cos(θ) = -1 → vectors point in opposite directions.\")\n",
    "print(\"→ The dot product combines the size of both vectors and the cosine of the angle between them.\")\n"
   ]
  }
 ],
 "metadata": {
  "kernelspec": {
   "display_name": "dev",
   "language": "python",
   "name": "python3"
  },
  "language_info": {
   "codemirror_mode": {
    "name": "ipython",
    "version": 3
   },
   "file_extension": ".py",
   "mimetype": "text/x-python",
   "name": "python",
   "nbconvert_exporter": "python",
   "pygments_lexer": "ipython3",
   "version": "3.10.15"
  }
 },
 "nbformat": 4,
 "nbformat_minor": 5
}
