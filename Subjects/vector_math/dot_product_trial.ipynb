{
 "cells": [
  {
   "cell_type": "code",
   "execution_count": 197,
   "id": "f94b84e2",
   "metadata": {},
   "outputs": [],
   "source": [
    "# Import Dependencies\n",
    "import random\n",
    "import math"
   ]
  },
  {
   "cell_type": "markdown",
   "id": "339bb5b8",
   "metadata": {},
   "source": [
    "### Random Value Generator"
   ]
  },
  {
   "cell_type": "code",
   "execution_count": 198,
   "id": "8dc5ce1e",
   "metadata": {},
   "outputs": [],
   "source": [
    "# Random Value - flat single value vectors\n",
    "def generate_single_rand(n, low = -50, high = 50):\n",
    "    return [random.uniform(low,high) for i in range(n)]"
   ]
  },
  {
   "cell_type": "markdown",
   "id": "33373622",
   "metadata": {},
   "source": [
    "### Dot Product Calculator Function"
   ]
  },
  {
   "cell_type": "code",
   "execution_count": 199,
   "id": "d2ab2cae",
   "metadata": {},
   "outputs": [],
   "source": [
    "# Basic Dot Product Calculator Function - flat single value vector lists\n",
    "def calc_basic_dot_product(vector1, vector2):\n",
    "    return sum([a * b for a, b in zip(vector1, vector2)])"
   ]
  },
  {
   "cell_type": "markdown",
   "id": "5a6136c6",
   "metadata": {},
   "source": [
    "### Vector Magnitude Calculator"
   ]
  },
  {
   "cell_type": "code",
   "execution_count": 200,
   "id": "dc6803d4",
   "metadata": {},
   "outputs": [],
   "source": [
    "# Basic Vector Magnitude Calculator \n",
    "def calc_basic_magnitude(vector1):\n",
    "    return math.sqrt(calc_basic_dot_product(vector1, vector1))"
   ]
  },
  {
   "cell_type": "markdown",
   "id": "173cd943",
   "metadata": {},
   "source": [
    "### Scalar Projection Calculator"
   ]
  },
  {
   "cell_type": "code",
   "execution_count": 201,
   "id": "c9c4da3b",
   "metadata": {},
   "outputs": [],
   "source": [
    "# Basic Scalar Projection Calculator - Scalar Projection of Vector 1 onto Vector 2\n",
    "def calc_basic_scalar_projection(vector1, vector2):\n",
    "\treturn calc_basic_dot_product(vector1, vector2) / calc_basic_magnitude(vector2)"
   ]
  },
  {
   "cell_type": "markdown",
   "id": "7450ed29",
   "metadata": {},
   "source": [
    "### Vector Projection Calculator"
   ]
  },
  {
   "cell_type": "code",
   "execution_count": 202,
   "id": "7e8be2dc",
   "metadata": {},
   "outputs": [],
   "source": [
    "# Basic Vector Projection Calculator - Vector Projection of Vector 1 onto Vector 2\n",
    "def calc_basic_vector_projection(vector1, vector2):\n",
    "\tdot_prod = calc_basic_dot_product(vector1, vector2)\n",
    "\tmagnitude_squared = calc_basic_dot_product(vector2, vector2)\n",
    "\tvector_scale = dot_prod / magnitude_squared\n",
    "\treturn [vector_scale * x for x in vector2]"
   ]
  },
  {
   "cell_type": "markdown",
   "id": "bb96af36",
   "metadata": {},
   "source": [
    "#### Readability Function (Bold/ Subheadings)"
   ]
  },
  {
   "cell_type": "code",
   "execution_count": 203,
   "id": "7e1b22f2",
   "metadata": {},
   "outputs": [],
   "source": [
    "# Bolding Function\n",
    "def bold(text):\n",
    "    return f\"\\033[1;91m{text}\\033[0m\"\n",
    "\n",
    "# Subheading Function\n",
    "def subheading(text):\n",
    "    print(f\"\\n\\033[1m {text.upper()}\\033[0m\")"
   ]
  },
  {
   "cell_type": "markdown",
   "id": "b928c8fa",
   "metadata": {},
   "source": [
    "#### Trial"
   ]
  },
  {
   "cell_type": "code",
   "execution_count": 204,
   "id": "15272c7c",
   "metadata": {},
   "outputs": [],
   "source": [
    "# Define Vectors 1 and 2 with Random values\n",
    "# vec_1 = generate_single_rand(2)\n",
    "# vec_2 = generate_single_rand(2)\n",
    "\n",
    "# Set Own Vector Lists\n",
    "vec_1 = [4,3]\n",
    "vec_2 = [1,2]"
   ]
  },
  {
   "cell_type": "code",
   "execution_count": 205,
   "id": "aedc5e0b",
   "metadata": {},
   "outputs": [
    {
     "name": "stdout",
     "output_type": "stream",
     "text": [
      "Vector 1 looks like:\n",
      "\u001b[1;91m[4, 3]\u001b[0m\n",
      "and has a magnitude of \u001b[1;91m5.0\u001b[0m\n",
      "\n",
      "Vector 2 looks like:\n",
      "\u001b[1;91m[1, 2]\u001b[0m\n",
      "and has a magnitude of \u001b[1;91m2.24\u001b[0m\n",
      "\n",
      "\n",
      "\u001b[1m DOT PRODUCT RESULT:\u001b[0m\n",
      "The Dot product of vectors 1 and 2 is \u001b[1;91m10\u001b[0m, which means that the vectors point in a similar direction\n",
      "\n",
      "\u001b[1m COSINE FORMULA BREAKDOWN\u001b[0m\n",
      "Comparing to the cosine formula:\n",
      "vector1 · vector2 = |v1| * |v2| * cos(θ)\n",
      "\u001b[1;91m10\u001b[0m = \u001b[1;91m5.0\u001b[0m * \u001b[1;91m2.2361\u001b[0m * \u001b[1;91m0.8944\u001b[0m\n",
      "\u001b[1;91m10\u001b[0m = \u001b[1;91m10.0\u001b[0m\n",
      "\n",
      "\u001b[1m GEOMETRIC INTERPRETATION OF COS(Θ)\u001b[0m\n",
      "To put Simply, this tells us:\n",
      "• If θ = 0°, then cos(θ) = 1 → vectors point in the same direction.\n",
      "• If θ = 90°, then cos(θ) = 0 → vectors are perpendicular (dot product = 0).\n",
      "• If θ = 180°, then cos(θ) = -1 → vectors point in opposite directions.\n",
      "→ The dot product combines the size of both vectors and the cosine of the angle between them.\n"
     ]
    }
   ],
   "source": [
    "# Run Calc\n",
    "basic_dp = calc_basic_dot_product(vec_1, vec_2)\n",
    "\n",
    "# Statements\n",
    "mag1 = calc_basic_magnitude(vec_1)\n",
    "print(f\"Vector 1 looks like:\")\n",
    "print (bold(vec_1))\n",
    "print(f\"and has a magnitude of {bold(round(mag1,2))}\\n\")\n",
    "\n",
    "mag2 = calc_basic_magnitude(vec_2)\n",
    "print(f\"Vector 2 looks like:\")\n",
    "print (bold(vec_2))\n",
    "print(f\"and has a magnitude of {bold(round(mag2,2))}\\n\")\n",
    "\n",
    "if basic_dp > 0:\n",
    "    meaning = \"which means that the vectors point in a similar direction\"\n",
    "elif basic_dp < 0:\n",
    "    meaning = \"which means that the vectors point in opposite directions\"\n",
    "else:\n",
    "    meaning = \"which means that the vectors are orthogonal (perpendicular)\"\n",
    "\n",
    "subheading(\"Dot Product Result:\")\n",
    "print(f\"The Dot product of vectors 1 and 2 is {bold(round(basic_dp, 4))}, {meaning}\")\n",
    "\n",
    "# Interestingly the Dot Product is the same as the Multiplying the sizes of the Vectors by Cos Theta\n",
    "cos_theta = basic_dp / (calc_basic_magnitude(vec_1) * calc_basic_magnitude(vec_2))\n",
    "\n",
    "subheading(\"Cosine Formula Breakdown\")\n",
    "print(f\"Comparing to the cosine formula:\")\n",
    "print(f\"vector1 · vector2 = |v1| * |v2| * cos(θ)\")\n",
    "print(f\"{bold(round(basic_dp, 4))} = {bold(round(mag1, 4))} * {bold(round(mag2, 4))} * {bold(round(cos_theta, 4))}\")\n",
    "print(f\"{bold(round(basic_dp, 4))} = {bold(round(mag1 * mag2 * cos_theta, 4))}\")\n",
    "\n",
    "subheading(\"Geometric Interpretation of Cos(θ)\")\n",
    "print(\"To put Simply, this tells us:\")\n",
    "print(\"• If θ = 0°, then cos(θ) = 1 → vectors point in the same direction.\")\n",
    "print(\"• If θ = 90°, then cos(θ) = 0 → vectors are perpendicular (dot product = 0).\")\n",
    "print(\"• If θ = 180°, then cos(θ) = -1 → vectors point in opposite directions.\")\n",
    "print(\"→ The dot product combines the size of both vectors and the cosine of the angle between them.\")\n",
    "\n"
   ]
  },
  {
   "cell_type": "code",
   "execution_count": 206,
   "id": "9713e5a4",
   "metadata": {},
   "outputs": [
    {
     "name": "stdout",
     "output_type": "stream",
     "text": [
      "\n",
      "\u001b[1m SCALAR PROJECTION OF VECTOR 1 ONTO VECTOR 2\u001b[0m\n",
      "The Scalar Projection of Vector 1 onto Vector 2 is \u001b[1;91m4.4721\u001b[0m\n",
      "→ This is the length of the 'shadow' cast by Vector 1 onto Vector 2.\n",
      "\n",
      "\u001b[1m SCALAR PROJECTION OF VECTOR 2 ONTO VECTOR 1\u001b[0m\n",
      "The Scalar Projection of Vector 2 onto Vector 1 is \u001b[1;91m2.0\u001b[0m\n",
      "→ This is the length of the 'shadow' cast by Vector 2 onto Vector 1.\n",
      "\n",
      "\u001b[1m VECTOR PROJECTION OF VECTOR 1 ONTO VECTOR 2\u001b[0m\n",
      "The Vector Projection of Vector 1 onto Vector 2 is \u001b[1;91m[2.0, 4.0]\u001b[0m\n",
      "→ This is the vector that shows how much of Vector 1 lies *along* Vector 2.\n",
      "\n",
      "\u001b[1m VECTOR PROJECTION OF VECTOR 2 ONTO VECTOR 1\u001b[0m\n",
      "The Vector Projection of Vector 2 onto Vector 1 is \u001b[1;91m[1.6, 1.2]\u001b[0m\n",
      "→ This is the vector that shows how much of Vector 2 lies *along* Vector 1.\n"
     ]
    }
   ],
   "source": [
    "# Scalar And Vector Projections\n",
    "subheading(\"Scalar Projection of Vector 1 onto Vector 2\")\n",
    "print(f\"The Scalar Projection of Vector 1 onto Vector 2 is {bold(round(calc_basic_scalar_projection(vec_1, vec_2), 4))}\")\n",
    "print(\"→ This is the length of the 'shadow' cast by Vector 1 onto Vector 2.\")\n",
    "\n",
    "subheading(\"Scalar Projection of Vector 2 onto Vector 1\")\n",
    "print(f\"The Scalar Projection of Vector 2 onto Vector 1 is {bold(round(calc_basic_scalar_projection(vec_2, vec_1), 4))}\")\n",
    "print(\"→ This is the length of the 'shadow' cast by Vector 2 onto Vector 1.\")\n",
    "\n",
    "subheading(\"Vector Projection of Vector 1 onto Vector 2\")\n",
    "print(f\"The Vector Projection of Vector 1 onto Vector 2 is {bold([round(x, 4) for x in calc_basic_vector_projection(vec_1, vec_2)])}\")\n",
    "print(\"→ This is the vector that shows how much of Vector 1 lies *along* Vector 2.\")\n",
    "\n",
    "subheading(\"Vector Projection of Vector 2 onto Vector 1\")\n",
    "print(f\"The Vector Projection of Vector 2 onto Vector 1 is {bold([round(x, 4) for x in calc_basic_vector_projection(vec_2, vec_1)])}\")\n",
    "print(\"→ This is the vector that shows how much of Vector 2 lies *along* Vector 1.\")"
   ]
  }
 ],
 "metadata": {
  "kernelspec": {
   "display_name": "dev",
   "language": "python",
   "name": "python3"
  },
  "language_info": {
   "codemirror_mode": {
    "name": "ipython",
    "version": 3
   },
   "file_extension": ".py",
   "mimetype": "text/x-python",
   "name": "python",
   "nbconvert_exporter": "python",
   "pygments_lexer": "ipython3",
   "version": "3.10.13"
  }
 },
 "nbformat": 4,
 "nbformat_minor": 5
}
