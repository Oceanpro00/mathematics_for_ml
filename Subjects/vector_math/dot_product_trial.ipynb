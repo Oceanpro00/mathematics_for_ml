{
 "cells": [
  {
   "cell_type": "code",
   "execution_count": 320,
   "id": "f94b84e2",
   "metadata": {},
   "outputs": [],
   "source": [
    "# Import Dependencies\n",
    "import random\n",
    "import math"
   ]
  },
  {
   "cell_type": "markdown",
   "id": "339bb5b8",
   "metadata": {},
   "source": [
    "### Random Value Generator"
   ]
  },
  {
   "cell_type": "code",
   "execution_count": 321,
   "id": "8dc5ce1e",
   "metadata": {},
   "outputs": [],
   "source": [
    "# Random Value - flat single value vectors\n",
    "def generate_single_rand(n, low = -50, high = 50):\n",
    "    return [random.uniform(low,high) for i in range(n)]"
   ]
  },
  {
   "cell_type": "markdown",
   "id": "33373622",
   "metadata": {},
   "source": [
    "### Dot Product Calculator Function"
   ]
  },
  {
   "cell_type": "code",
   "execution_count": 322,
   "id": "d2ab2cae",
   "metadata": {},
   "outputs": [],
   "source": [
    "# Basic Dot Product Calculator Function - flat single value vector lists\n",
    "def calc_basic_dot_product(vector1, vector2):\n",
    "    return sum([a * b for a, b in zip(vector1, vector2)])"
   ]
  },
  {
   "cell_type": "markdown",
   "id": "5a6136c6",
   "metadata": {},
   "source": [
    "### Vector Magnitude/ Size Calculator"
   ]
  },
  {
   "cell_type": "code",
   "execution_count": 323,
   "id": "dc6803d4",
   "metadata": {},
   "outputs": [],
   "source": [
    "# Basic Vector Magnitude/ Size Calculator \n",
    "def calc_basic_magnitude(vector1):\n",
    "    return math.sqrt(calc_basic_dot_product(vector1, vector1))"
   ]
  },
  {
   "cell_type": "markdown",
   "id": "173cd943",
   "metadata": {},
   "source": [
    "### Scalar Projection Calculator"
   ]
  },
  {
   "cell_type": "code",
   "execution_count": 324,
   "id": "c9c4da3b",
   "metadata": {},
   "outputs": [],
   "source": [
    "# Basic Scalar Projection Calculator - Scalar Projection of Vector 1 onto Vector 2\n",
    "def calc_basic_scalar_projection(vector1, vector2):\n",
    "\treturn calc_basic_dot_product(vector1, vector2) / calc_basic_magnitude(vector2)"
   ]
  },
  {
   "cell_type": "markdown",
   "id": "7450ed29",
   "metadata": {},
   "source": [
    "### Vector Projection Calculator"
   ]
  },
  {
   "cell_type": "code",
   "execution_count": 325,
   "id": "7e8be2dc",
   "metadata": {},
   "outputs": [],
   "source": [
    "# Basic Vector Projection Calculator - Vector Projection of Vector 1 onto Vector 2\n",
    "def calc_basic_vector_projection(vector1, vector2):\n",
    "\tdot_prod = calc_basic_dot_product(vector1, vector2)\n",
    "\tmagnitude_squared = calc_basic_dot_product(vector2, vector2)\n",
    "\tvector_scale = dot_prod / magnitude_squared\n",
    "\treturn [vector_scale * x for x in vector2]"
   ]
  },
  {
   "cell_type": "markdown",
   "id": "bb96af36",
   "metadata": {},
   "source": [
    "#### Readability Function (Bold/ Subheadings)"
   ]
  },
  {
   "cell_type": "code",
   "execution_count": 326,
   "id": "7e1b22f2",
   "metadata": {},
   "outputs": [],
   "source": [
    "# Bolding Function\n",
    "def bold(text):\n",
    "    return f\"\\033[1;91m{text}\\033[0m\"\n",
    "\n",
    "# Subheading Function\n",
    "def subheading(text):\n",
    "    print(f\"\\n\\033[1m {text.upper()}\\033[0m\")"
   ]
  },
  {
   "cell_type": "markdown",
   "id": "b928c8fa",
   "metadata": {},
   "source": [
    "#### Trial"
   ]
  },
  {
   "cell_type": "code",
   "execution_count": 327,
   "id": "15272c7c",
   "metadata": {},
   "outputs": [],
   "source": [
    "# Define Vectors 1 and 2 with Random values\n",
    "# vec_1 = generate_single_rand(2)\n",
    "# vec_2 = generate_single_rand(2)\n",
    "\n",
    "# Set Own Vector Lists\n",
    "vec_1 = [3,-4,0]\n",
    "vec_2 = [10,5,-6]"
   ]
  },
  {
   "cell_type": "code",
   "execution_count": 328,
   "id": "aedc5e0b",
   "metadata": {},
   "outputs": [
    {
     "name": "stdout",
     "output_type": "stream",
     "text": [
      "Vector 1 looks like:\n",
      "\u001b[1;91m[3, -4, 0]\u001b[0m\n",
      "and has a magnitude/ size of \u001b[1;91m5.0\u001b[0m\n",
      "\n",
      "Vector 2 looks like:\n",
      "\u001b[1;91m[10, 5, -6]\u001b[0m\n",
      "and has a magnitude/ size of \u001b[1;91m12.69\u001b[0m\n",
      "\n",
      "\n",
      "\u001b[1m MAGNITUDE BREAKDOWN\u001b[0m\n",
      "We calculate a vector's magnitude using the Pythagorean Theorem:\n",
      "\n",
      "For a 2D vector [a, b]:\n",
      "   v² = a² + b\n",
      "  |v| = √(a² + b²)\n",
      "\n",
      "For a general vector to the nth [x₁, x₂, ..., xₙ]:\n",
      "  |v| = √(x₁² + x₂² + ... + xₙ²)\n",
      "\n",
      "Vector 1: [3, -4, 0]\n",
      "→ |v₁| = √(3² + -4² + 0²) = √(25) = \u001b[1;91m5.0\u001b[0m\n"
     ]
    }
   ],
   "source": [
    "# Statements\n",
    "mag1 = calc_basic_magnitude(vec_1)\n",
    "print(f\"Vector 1 looks like:\")\n",
    "print (bold(vec_1))\n",
    "print(f\"and has a magnitude/ size of {bold(round(mag1,2))}\\n\")\n",
    "\n",
    "mag2 = calc_basic_magnitude(vec_2)\n",
    "print(f\"Vector 2 looks like:\")\n",
    "print (bold(vec_2))\n",
    "print(f\"and has a magnitude/ size of {bold(round(mag2,2))}\\n\")\n",
    "\n",
    "subheading(\"Magnitude Breakdown\")\n",
    "\n",
    "print(\"We calculate a vector's magnitude using the Pythagorean Theorem:\\n\")\n",
    "print(\"For a 2D vector [a, b]:\")\n",
    "print(\"   v² = a² + b\")\n",
    "print(\"  |v| = √(a² + b²)\\n\")\n",
    "print(\"For a general vector to the nth [x₁, x₂, ..., xₙ]:\")\n",
    "print(\"  |v| = √(x₁² + x₂² + ... + xₙ²)\\n\")\n",
    "\n",
    "# Show breakdown for vector 1\n",
    "squares_1 = [f\"{x}²\" for x in vec_1]\n",
    "sum_of_squares_1 = sum([x**2 for x in vec_1])\n",
    "print(f\"Vector 1: {vec_1}\")\n",
    "print(f\"→ |v₁| = √({' + '.join(squares_1)}) = √({round(sum_of_squares_1, 4)}) = {bold(round(mag1, 4))}\")\n"
   ]
  },
  {
   "cell_type": "code",
   "execution_count": 329,
   "id": "0ad25d16",
   "metadata": {},
   "outputs": [
    {
     "name": "stdout",
     "output_type": "stream",
     "text": [
      "\n",
      "\u001b[1m DOT PRODUCT RESULT:\u001b[0m\n",
      "The Dot product of vectors 1 and 2 is \u001b[1;91m10\u001b[0m, which means that the vectors point in a similar direction\n",
      "\n",
      "\u001b[1m COSINE FORMULA BREAKDOWN\u001b[0m\n",
      "Comparing to the cosine formula:\n",
      "vector1 · vector2 = |v1| * |v2| * cos(θ)\n",
      "\u001b[1;91m10\u001b[0m = \u001b[1;91m5.0\u001b[0m * \u001b[1;91m12.6886\u001b[0m * \u001b[1;91m0.1576\u001b[0m\n",
      "\u001b[1;91m10\u001b[0m = \u001b[1;91m10.0\u001b[0m\n",
      "\n",
      "\u001b[1m GEOMETRIC INTERPRETATION OF COS(Θ)\u001b[0m\n",
      "To put Simply, this tells us:\n",
      "• If θ = 0°, then cos(θ) = 1 → vectors point in the same direction.\n",
      "• If θ = 90°, then cos(θ) = 0 → vectors are perpendicular (dot product = 0).\n",
      "• If θ = 180°, then cos(θ) = -1 → vectors point in opposite directions.\n",
      "→ The dot product combines the size of both vectors and the cosine of the angle between them.\n"
     ]
    }
   ],
   "source": [
    "# Run Dot Product Calc\n",
    "basic_dp = calc_basic_dot_product(vec_1, vec_2)\n",
    "\n",
    "if basic_dp > 0:\n",
    "    meaning = \"which means that the vectors point in a similar direction\"\n",
    "elif basic_dp < 0:\n",
    "    meaning = \"which means that the vectors point in opposite directions\"\n",
    "else:\n",
    "    meaning = \"which means that the vectors are orthogonal (perpendicular)\"\n",
    "\n",
    "subheading(\"Dot Product Result:\")\n",
    "print(f\"The Dot product of vectors 1 and 2 is {bold(round(basic_dp, 4))}, {meaning}\")\n",
    "\n",
    "# Interestingly the Dot Product is the same as the Multiplying the sizes of the Vectors by Cos Theta\n",
    "cos_theta = basic_dp / (calc_basic_magnitude(vec_1) * calc_basic_magnitude(vec_2))\n",
    "\n",
    "subheading(\"Cosine Formula Breakdown\")\n",
    "print(f\"Comparing to the cosine formula:\")\n",
    "print(f\"vector1 · vector2 = |v1| * |v2| * cos(θ)\")\n",
    "print(f\"{bold(round(basic_dp, 4))} = {bold(round(mag1, 4))} * {bold(round(mag2, 4))} * {bold(round(cos_theta, 4))}\")\n",
    "print(f\"{bold(round(basic_dp, 4))} = {bold(round(mag1 * mag2 * cos_theta, 4))}\")\n",
    "\n",
    "subheading(\"Geometric Interpretation of Cos(θ)\")\n",
    "print(\"To put Simply, this tells us:\")\n",
    "print(\"• If θ = 0°, then cos(θ) = 1 → vectors point in the same direction.\")\n",
    "print(\"• If θ = 90°, then cos(θ) = 0 → vectors are perpendicular (dot product = 0).\")\n",
    "print(\"• If θ = 180°, then cos(θ) = -1 → vectors point in opposite directions.\")\n",
    "print(\"→ The dot product combines the size of both vectors and the cosine of the angle between them.\")"
   ]
  },
  {
   "cell_type": "code",
   "execution_count": 330,
   "id": "9713e5a4",
   "metadata": {},
   "outputs": [
    {
     "name": "stdout",
     "output_type": "stream",
     "text": [
      "\n",
      "\u001b[1m SCALAR PROJECTION OF VECTOR 1 ONTO VECTOR 2\u001b[0m\n",
      "The Scalar Projection of Vector 1 onto Vector 2 is \u001b[1;91m0.7881\u001b[0m\n",
      "→ This is the length of the 'shadow' cast by Vector 1 onto Vector 2.\n",
      "\n",
      "\u001b[1m SCALAR PROJECTION OF VECTOR 2 ONTO VECTOR 1\u001b[0m\n",
      "The Scalar Projection of Vector 2 onto Vector 1 is \u001b[1;91m2.0\u001b[0m\n",
      "→ This is the length of the 'shadow' cast by Vector 2 onto Vector 1.\n",
      "\n",
      "\u001b[1m SCALAR PROJECTION: VECTOR 1 ONTO VECTOR 2\u001b[0m\n",
      "Let:\n",
      "  a = Vector 1\n",
      "  b = Vector 2\n",
      "\n",
      "Formula:\n",
      "  scalar_proj = (a · b) / |b|\n",
      "→ This gives the length of the shadow of Vector 1 onto Vector 2.\n"
     ]
    }
   ],
   "source": [
    "# Scalar Projections\n",
    "subheading(\"Scalar Projection of Vector 1 onto Vector 2\")\n",
    "print(f\"The Scalar Projection of Vector 1 onto Vector 2 is {bold(round(calc_basic_scalar_projection(vec_1, vec_2), 4))}\")\n",
    "print(\"→ This is the length of the 'shadow' cast by Vector 1 onto Vector 2.\")\n",
    "\n",
    "subheading(\"Scalar Projection of Vector 2 onto Vector 1\")\n",
    "print(f\"The Scalar Projection of Vector 2 onto Vector 1 is {bold(round(calc_basic_scalar_projection(vec_2, vec_1), 4))}\")\n",
    "print(\"→ This is the length of the 'shadow' cast by Vector 2 onto Vector 1.\")\n",
    "\n",
    "subheading(\"Scalar Projection: Vector 1 onto Vector 2\")\n",
    "print(\"Let:\")\n",
    "print(\"  a = Vector 1\")\n",
    "print(\"  b = Vector 2\\n\")\n",
    "print(\"Formula:\")\n",
    "print(\"  scalar_proj = (a · b) / |b|\")\n",
    "print(\"→ This gives the length of the shadow of Vector 1 onto Vector 2.\")\n"
   ]
  },
  {
   "cell_type": "code",
   "execution_count": null,
   "id": "7b04e783",
   "metadata": {},
   "outputs": [
    {
     "name": "stdout",
     "output_type": "stream",
     "text": [
      "\n",
      "\u001b[1m VECTOR PROJECTION OF VECTOR 1 ONTO VECTOR 2\u001b[0m\n",
      "The Vector Projection of Vector 1 onto Vector 2 is \u001b[1;91m[0.6211, 0.3106, -0.3727]\u001b[0m\n",
      "→ This is the vector that shows how much of Vector 1 lies *along* Vector 2.\n",
      "\n",
      "\u001b[1m VECTOR PROJECTION OF VECTOR 2 ONTO VECTOR 1\u001b[0m\n",
      "The Vector Projection of Vector 2 onto Vector 1 is \u001b[1;91m[1.2, -1.6, 0.0]\u001b[0m\n",
      "→ This is the vector that shows how much of Vector 2 lies *along* Vector 1.\n",
      "\n",
      "\u001b[1m VECTOR PROJECTION: VECTOR 1 ONTO VECTOR 2\u001b[0m\n",
      "Let:\n",
      "  a = Vector 1\n",
      "  b = Vector 2\n",
      "\n",
      "Formula:\n",
      "  vector_proj = [(a · b) / (b · b)] × b\n",
      "→ This gives the vector that lies *along* Vector 2 in the direction of Vector 1.\n"
     ]
    }
   ],
   "source": [
    "# Vector Projections\n",
    "subheading(\"Vector Projection of Vector 1 onto Vector 2\")\n",
    "print(f\"The Vector Projection of Vector 1 onto Vector 2 is {bold([round(x, 4) for x in calc_basic_vector_projection(vec_1, vec_2)])}\")\n",
    "print(\"→ This is the vector that shows how much of Vector 1 lies *along* Vector 2.\")\n",
    "\n",
    "subheading(\"Vector Projection of Vector 2 onto Vector 1\")\n",
    "print(f\"The Vector Projection of Vector 2 onto Vector 1 is {bold([round(x, 4) for x in calc_basic_vector_projection(vec_2, vec_1)])}\")\n",
    "print(\"→ This is the vector that shows how much of Vector 2 lies *along* Vector 1.\")\n",
    "\n",
    "subheading(\"Vector Projection: Vector 1 onto Vector 2\")\n",
    "print(\"Let:\")\n",
    "print(\"  a = Vector 1\")\n",
    "print(\"  b = Vector 2\\n\")\n",
    "\n",
    "print(\"Formula:\")\n",
    "print(\"  vector_proj = [(a · b) / (b · b)] × b\")\n",
    "print(\"→ This gives the vector that lies *along* Vector 1 in the direction of Vector 2.\")"
   ]
  }
 ],
 "metadata": {
  "kernelspec": {
   "display_name": "dev",
   "language": "python",
   "name": "python3"
  },
  "language_info": {
   "codemirror_mode": {
    "name": "ipython",
    "version": 3
   },
   "file_extension": ".py",
   "mimetype": "text/x-python",
   "name": "python",
   "nbconvert_exporter": "python",
   "pygments_lexer": "ipython3",
   "version": "3.10.13"
  }
 },
 "nbformat": 4,
 "nbformat_minor": 5
}
